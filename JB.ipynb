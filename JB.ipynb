# Resumo sobre o Teste de Jarque-Bera (JB) em Econometria

O teste de Jarque-Bera (JB) é utilizado para verificar se os resíduos de um modelo econométrico seguem uma distribuição normal. A normalidade dos resíduos é uma das premissas fundamentais em muitos modelos econométricos, como o modelo de regressão linear clássico.

## Estatística do Teste (Segundo Gujarati)

A estatística JB é calculada como:

JB = n/6 * [S² + (K - 3)²/4]

Onde:
- n = número de observações
- S = coeficiente de assimetria (skewness)
- K = coeficiente de curtose (kurtosis)

Sob a hipótese nula de normalidade, JB segue uma distribuição qui-quadrado com 2 graus de liberdade.

## Exemplo Completo em Python

Vamos ajustar um modelo de regressão linear, extrair os resíduos e aplicar o teste de JB.


