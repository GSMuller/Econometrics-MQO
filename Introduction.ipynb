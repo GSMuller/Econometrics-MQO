{
 "cells": [
  {
   "cell_type": "markdown",
   "id": "81a9eaf9",
   "metadata": {},
   "source": [
    "# Econometrics Coding\n",
    "\n",
    "Este repositório tem como objetivo apresentar técnicas e exemplos de econometria aplicados ao mercado financeiro.\n",
    "\n",
    "Aqui você encontrará códigos, análises e explicações sobre modelos econométricos utilizados em finanças."
   ]
  },
  {
   "cell_type": "markdown",
   "id": "de6c44a2",
   "metadata": {},
   "source": [
    "#### Importação das Bibliotecas\n",
    "\n",
    "Vamos começar importando as principais bibliotecas utilizadas em econometria e análise financeira com Python."
   ]
  },
  {
   "cell_type": "code",
   "execution_count": 1,
   "id": "83060a41",
   "metadata": {},
   "outputs": [],
   "source": [
    "# Importação das bibliotecas principais\n",
    "import numpy as np\n",
    "import pandas as pd\n",
    "import statsmodels.api as sm\n",
    "import matplotlib.pyplot as plt\n",
    "import seaborn as sns"
   ]
  },
  {
   "cell_type": "markdown",
   "id": "7617d4b6",
   "metadata": {},
   "source": [
    "### Regressão Linear Simples\n",
    "\n",
    "A regressão linear simples é uma das técnicas mais utilizadas em econometria para analisar a relação entre duas variáveis.\n",
    "\n",
    "No contexto financeiro, pode ser usada para prever retornos de ativos com base em fatores econômicos."
   ]
  },
  {
   "cell_type": "code",
   "execution_count": 2,
   "id": "1ab27f34",
   "metadata": {},
   "outputs": [
    {
     "data": {
      "image/png": "[encoded data removed]",
      "text/plain": [
       "<Figure size 640x480 with 1 Axes>"
      ]
     },
     "metadata": {},
     "output_type": "display_data"
    }
   ],
   "source": [
    "# Simulando dados para regressão linear simples\n",
    "np.random.seed(42)\n",
    "n = 100\n",
    "x = np.random.normal(0, 1, n)\n",
    "y = 2 * x + np.random.normal(0, 1, n)\n",
    "df = pd.DataFrame({'x': x, 'y': y})\n",
    "\n",
    "# Visualizando os dados\n",
    "sns.scatterplot(x='x', y='y', data=df)\n",
    "plt.title('Dispersão entre x e y')\n",
    "plt.show()"
   ]
  },
  {
   "cell_type": "code",
   "execution_count": 3,
   "id": "3885d2e7",
   "metadata": {},
   "outputs": [
    {
     "name": "stdout",
     "output_type": "stream",
     "text": [
      "                            OLS Regression Results                            \n",
      "==============================================================================\n",
      "Dep. Variable:                      y   R-squared:                       0.761\n",
      "Model:                            OLS   Adj. R-squared:                  0.759\n",
      "Method:                 Least Squares   F-statistic:                     312.2\n",
      "Date:                Mon, 18 Aug 2025   Prob (F-statistic):           3.14e-32\n",
      "Time:                        21:56:51   Log-Likelihood:                -135.71\n",
      "No. Observations:                 100   AIC:                             275.4\n",
      "Df Residuals:                      98   BIC:                             280.6\n",
      "Df Model:                           1                                         \n",
      "Covariance Type:            nonrobust                                         \n",
      "==============================================================================\n",
      "                 coef    std err          t      P>|t|      [0.025      0.975]\n",
      "------------------------------------------------------------------------------\n",
      "const          0.0074      0.096      0.078      0.938      -0.182       0.197\n",
      "x              1.8567      0.105     17.669      0.000       1.648       2.065\n",
      "==============================================================================\n",
      "Omnibus:                        1.950   Durbin-Watson:                   2.194\n",
      "Prob(Omnibus):                  0.377   Jarque-Bera (JB):                1.909\n",
      "Skew:                           0.327   Prob(JB):                        0.385\n",
      "Kurtosis:                       2.829   Cond. No.                         1.16\n",
      "==============================================================================\n",
      "\n",
      "Notes:\n",
      "[1] Standard Errors assume that the covariance matrix of the errors is correctly specified.\n"
     ]
    }
   ],
   "source": [
    "# Ajustando o modelo de regressão linear\n",
    "X = sm.add_constant(df['x'])\n",
    "model = sm.OLS(df['y'], X).fit()\n",
    "print(model.summary())"
   ]
  },
  {
   "cell_type": "markdown",
   "id": "2db760b6",
   "metadata": {},
   "source": [
    "O resultado acima mostra os coeficientes estimados, o R² e outras estatísticas do modelo.\n",
    "\n",
    "Você pode adaptar este exemplo para dados reais do mercado financeiro."
   ]
  },
  {
   "cell_type": "markdown",
   "id": "fc2b8c9f",
   "metadata": {},
   "source": [
    "### Principais Bibliotecas e Suas Utilidades\n",
    "\n",
    "- **NumPy**: Fundamental para operações matemáticas e manipulação de arrays. É eficiente para cálculos vetoriais e matriciais, essenciais em econometria.\n",
    "- **Pandas**: Permite manipulação e análise de dados em formato de tabelas (DataFrames). É importante saber como importar, filtrar, agrupar e transformar dados.\n",
    "- **Statsmodels**: Biblioteca especializada em modelos estatísticos, como regressão linear, séries temporais e testes estatísticos. Saber interpretar os resultados dos modelos é essencial.\n",
    "- **Matplotlib**: Usada para criar gráficos e visualizações. É importante para explorar dados e apresentar resultados.\n",
    "- **Seaborn**: Baseada no Matplotlib, facilita a criação de gráficos estatísticos mais sofisticados e visualmente agradáveis.\n",
    "\n",
    "É importante conhecer os métodos principais de cada biblioteca, como manipular DataFrames no Pandas, ajustar modelos no Statsmodels e criar visualizações no Matplotlib/Seaborn."
   ]
  }
 ],
 "metadata": {
  "kernelspec": {
   "display_name": "base",
   "language": "python",
   "name": "python3"
  },
  "language_info": {
   "codemirror_mode": {
    "name": "ipython",
    "version": 3
   },
   "file_extension": ".py",
   "mimetype": "text/x-python",
   "name": "python",
   "nbconvert_exporter": "python",
   "pygments_lexer": "ipython3",
   "version": "3.12.7"
  }
 },
 "nbformat": 4,
 "nbformat_minor": 5
}
